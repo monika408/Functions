{
  "nbformat": 4,
  "nbformat_minor": 0,
  "metadata": {
    "colab": {
      "provenance": []
    },
    "kernelspec": {
      "name": "python3",
      "display_name": "Python 3"
    },
    "language_info": {
      "name": "python"
    }
  },
  "cells": [
    {
      "cell_type": "markdown",
      "source": [
        "#Functions Theory\n"
      ],
      "metadata": {
        "id": "cXNNENT2D2CY"
      }
    },
    {
      "cell_type": "markdown",
      "source": [
        "1. What is the difference between a function and a method in Python?\n",
        "\n",
        "- A function is a block of reusable code that operates independently and can be called anywhere in the code.\n",
        "A method is similar to a function but is associated with an object and is called on that object.\n",
        "\n",
        "Example:\n",
        "\n",
        "  #Function\n",
        "\n",
        "def greet(name):\n",
        "\n",
        "    return f\"Hello, {name}!\"\n",
        "\n",
        "print(greet(\"Alice\")) # output: Hello, Alice\n",
        "\n",
        "  #Method\n",
        "\n",
        "class Greeter:\n",
        "\n",
        "    def greet(self, name):\n",
        "        return f\"Hello, {name}!\"\n",
        "\n",
        "greeter = Greeter()\n",
        "\n",
        "print(greeter.greet(\"Alice\"))  # Output: Hello, Alice!\n",
        "\n",
        "\n",
        "\n",
        "2. Explain the concept of function arguments and parameters in Python.\n",
        "- Parameters are variables defined in a function signature.\n",
        "Arguments are actual values passed to the function when calling it.\n",
        "\n",
        "Example:\n",
        "\n",
        "def add_numbers(a, b): # a and b are parameters\n",
        "\n",
        "    return a + b\n",
        "\n",
        "result = add_numbers(3, 5)  # 3 and 5 are arguments\n",
        "\n",
        "print(result)  # Output: 8\n",
        "\n",
        "3. What are the different ways to define and call a function in Python?\n",
        "\n",
        "- Defining: Using def keyword or as a lambda function.\n",
        "Calling: By its name followed by parentheses with arguments (if any).\n",
        "\n",
        "Example:\n",
        "\n",
        " #Regular function definition\n",
        "\n",
        "def multiply(x, y):\n",
        "\n",
        "    return x * y\n",
        "\n",
        "print(multiply(2, 3))  # Output: 6\n",
        "\n",
        " #Lambda function\n",
        "\n",
        "square = lambda x: x ** 2\n",
        "\n",
        "print(square(4))  # Output: 16\n",
        "\n",
        "4. What is the purpose of the return statement in a Python function?\n",
        "- The return statement is used to send the result of a function back to the caller.\n",
        "\n",
        "Example:\n",
        "\n",
        "def square(x):\n",
        "\n",
        "    return x ** 2\n",
        "\n",
        "result = square(5)\n",
        "\n",
        "print(result)  # Output: 25\n",
        "\n",
        "5. What are iterators in Python and how do they differ from iterables?\n",
        "\n",
        "- Iterable: An object that can be iterated over (e.g., list, tuple, string).\n",
        "Iterator: An object with a __next__() method that produces the next value from an iterable.\n",
        "\n",
        "Example:\n",
        "\n",
        " #Iterable\n",
        "\n",
        "my_list = [1, 2, 3]\n",
        "\n",
        "iterator = iter(my_list)  # Create an iterator\n",
        "\n",
        "print(next(iterator))  # Output: 1\n",
        "\n",
        "print(next(iterator))  # Output: 2\n",
        "\n",
        "6. Explain the concept of generators in Python and how they are defined.\n",
        "- Generators are a type of iterable that produce values one at a time using the yield keyword.\n",
        "\n",
        "Example:\n",
        "\n",
        "def countdown(n):\n",
        "    while n > 0:\n",
        "        yield n\n",
        "        n -= 1\n",
        "\n",
        "for number in countdown(3):\n",
        "    print(number)  # Output: 3, 2, 1\n",
        "7. What are the advantages of using generators over regular functions?\n",
        "\n",
        "- Memory-efficient as they generate values on the fly.\n",
        "Suitable for large data streams.\n",
        "\n",
        "Example:\n",
        "\n",
        " #Regular function\n",
        "\n",
        "def get_numbers():\n",
        "\n",
        "    return [i for i in range(1, 1000000)]\n",
        "\n",
        " #Generator\n",
        "\n",
        "def get_numbers_gen():\n",
        "\n",
        "    for i in range(1, 1000000):\n",
        "\n",
        "        yield i\n",
        "8. What is a lambda function in Python and when is it typically used?\n",
        "- A lambda function is a small anonymous function defined with the lambda keyword, often used for short, simple operations.\n",
        "\n",
        "Example:\n",
        "\n",
        "add = lambda x, y: x + y\n",
        "\n",
        "print(add(3, 5))  # Output: 8\n",
        "\n",
        " #Using with map()\n",
        "\n",
        "numbers = [1, 2, 3]\n",
        "\n",
        "squared = list(map(lambda x: x ** 2, numbers))\n",
        "\n",
        "print(squared)  # Output: [1, 4, 9]\n",
        "\n",
        "9. Explain the purpose and usage of the map() function in Python.\n",
        "- map() applies a given function to all items in an iterable and returns a map object.\n",
        "\n",
        "Example:\n",
        "\n",
        " #Using map to double the numbers\n",
        "\n",
        "numbers = [1, 2, 3, 4]\n",
        "\n",
        "doubled = list(map(lambda x: x * 2, numbers))\n",
        "\n",
        "print(doubled)  # Output: [2, 4, 6, 8]\n",
        "\n",
        "10. What is the difference between `map()`, `reduce()`, and `filter()` functions in Python?\n",
        "- 1. map()\n",
        "Purpose: Applies a function to each element of an iterable and returns a map object (an iterator).\n",
        "\n",
        "Use Case: Transform elements in an iterable without modifying the original.\n",
        "\n",
        "Example:\n",
        "\n",
        "numbers = [1, 2, 3, 4]\n",
        " #Doubling each element\n",
        "\n",
        "doubled = list(map(lambda x: x * 2, numbers))\n",
        "\n",
        "print(doubled)  # Output: [2, 4, 6, 8]\n",
        "\n",
        "2. filter()\n",
        "\n",
        "Purpose: Filters elements of an iterable based on a function that returns True or False.\n",
        "\n",
        "Use Case: Extract elements that meet certain conditions.\n",
        "\n",
        "Example:\n",
        "\n",
        "numbers = [1, 2, 3, 4, 5, 6]\n",
        " #Filtering even numbers\n",
        "\n",
        "evens = list(filter(lambda x: x % 2 == 0, numbers))\n",
        "\n",
        "print(evens)  # Output: [2, 4, 6]\n",
        "\n",
        "3. reduce()\n",
        "\n",
        "Purpose: Reduces an iterable to a single value by cumulatively applying a function to its elements.\n",
        "\n",
        "Use Case: Perform cumulative operations like summation, multiplication, etc.\n",
        "Note: reduce() is not built-in; it is part of the functools module.\n",
        "\n",
        "Example:\n",
        "\n",
        "from functools import reduce\n",
        "\n",
        "numbers = [1, 2, 3, 4]\n",
        " #Finding the product of all numbers\n",
        "\n",
        "product = reduce(lambda x, y: x * y, numbers)\n",
        "\n",
        "print(product)  # Output: 24\n",
        "\n",
        "11. Using pen & Paper write the internal mechanism for sum operation using  reduce function on this given\n",
        "list:[47,11,42,13];\n",
        "- ![WhatsApp Image 2025-01-21 at 1.06.29 AM.jpeg](data:image/jpeg;base64,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)\n",
        "\n",
        "\n",
        "\n",
        "\n",
        "\n",
        "\n"
      ],
      "metadata": {
        "id": "4JLEGUWmGK6Q"
      }
    },
    {
      "cell_type": "markdown",
      "source": [
        "#Functions Practicle"
      ],
      "metadata": {
        "id": "qnIQGZO5QI-t"
      }
    },
    {
      "cell_type": "markdown",
      "source": [
        "1. Write a Python function that takes a list of numbers as input and returns the sum of all even numbers in\n",
        "the list"
      ],
      "metadata": {
        "id": "g6zM2Xy1Uo6_"
      }
    },
    {
      "cell_type": "code",
      "source": [
        "def sum_of_even_numbers(numbers):\n",
        "\n",
        "    return sum(number for number in numbers if number % 2 == 0)\n",
        "\n",
        "\n",
        "# Example usage:\n",
        "if __name__ == \"__main__\":\n",
        "    numbers = [1, 2, 3, 4, 5, 6]\n",
        "    result = sum_of_even_numbers(numbers)\n",
        "    print(f\"The sum of even numbers in the list is: {result}\")\n"
      ],
      "metadata": {
        "colab": {
          "base_uri": "https://localhost:8080/"
        },
        "id": "3JLyCEisQ5Gr",
        "outputId": "c02e12d3-e1ae-40db-fa05-eb8268b5543d"
      },
      "execution_count": null,
      "outputs": [
        {
          "output_type": "stream",
          "name": "stdout",
          "text": [
            "The sum of even numbers in the list is: 12\n"
          ]
        }
      ]
    },
    {
      "cell_type": "markdown",
      "source": [
        "2. Create a Python function that accepts a string and returns the reverse of that string."
      ],
      "metadata": {
        "id": "IXv-q8RSU2Zd"
      }
    },
    {
      "cell_type": "code",
      "source": [
        "s = \"Hello\"\n",
        "rev = s[::-1]\n",
        "print(rev)"
      ],
      "metadata": {
        "colab": {
          "base_uri": "https://localhost:8080/"
        },
        "id": "e1P8fiKeUml_",
        "outputId": "9b95ca16-ca18-4869-abb7-8c2d2dcd931e"
      },
      "execution_count": null,
      "outputs": [
        {
          "output_type": "stream",
          "name": "stdout",
          "text": [
            "olleH\n"
          ]
        }
      ]
    },
    {
      "cell_type": "markdown",
      "source": [
        "3. Implement a Python function that takes a list of integers and returns a new list containing the squares of each number."
      ],
      "metadata": {
        "id": "WBZk_JmTWaEo"
      }
    },
    {
      "cell_type": "code",
      "source": [
        "def square_numbers(numbers):\n",
        "    return [x ** 2 for x in numbers]\n",
        "\n",
        "# Example\n",
        "numbers = [1, 2, 3, 4]\n",
        "result = square_numbers(numbers)\n",
        "print(result)\n"
      ],
      "metadata": {
        "colab": {
          "base_uri": "https://localhost:8080/"
        },
        "id": "LlW-1YvoWZjb",
        "outputId": "268dcb7e-eeba-4dff-f24e-71b2ad0bc294"
      },
      "execution_count": null,
      "outputs": [
        {
          "output_type": "stream",
          "name": "stdout",
          "text": [
            "[1, 4, 9, 16]\n"
          ]
        }
      ]
    },
    {
      "cell_type": "markdown",
      "source": [
        "4. Write a Python function that checks if a given number is prime or not from 1 to 200."
      ],
      "metadata": {
        "id": "1uP2yb3SY6V8"
      }
    },
    {
      "cell_type": "code",
      "source": [
        "def is_prime(n):\n",
        "    if n <= 1:\n",
        "        return False\n",
        "    for i in range(2, int(n**0.5) + 1):\n",
        "        if n % i == 0:\n",
        "            return False\n",
        "    return True\n",
        "\n",
        "# Example (checking primes from 1 to 20)\n",
        "primes = [n for n in range(1, 21) if is_prime(n)]\n",
        "print(primes)\n"
      ],
      "metadata": {
        "colab": {
          "base_uri": "https://localhost:8080/"
        },
        "id": "spXgTznUZYV2",
        "outputId": "57922804-0844-443f-b864-48b344ab1da4"
      },
      "execution_count": null,
      "outputs": [
        {
          "output_type": "stream",
          "name": "stdout",
          "text": [
            "[2, 3, 5, 7, 11, 13, 17, 19]\n"
          ]
        }
      ]
    },
    {
      "cell_type": "markdown",
      "source": [
        "5.  Create an iterator class in Python that generates the Fibonacci sequence up to a specified number of terms."
      ],
      "metadata": {
        "id": "YdT2c7g-Z63E"
      }
    },
    {
      "cell_type": "code",
      "source": [
        "class FibonacciIterator:\n",
        "    def __init__(self, terms):\n",
        "        self.terms = terms\n",
        "        self.a, self.b = 0, 1\n",
        "        self.count = 0\n",
        "\n",
        "    def __iter__(self):\n",
        "        return self\n",
        "\n",
        "    def __next__(self):\n",
        "        if self.count < self.terms:\n",
        "            result = self.a\n",
        "            self.a, self.b = self.b, self.a + self.b\n",
        "            self.count += 1\n",
        "            return result\n",
        "        else:\n",
        "            raise StopIteration\n",
        "\n",
        "# Example\n",
        "fib = FibonacciIterator(5)\n",
        "for num in fib:\n",
        "    print(num)\n",
        "\n"
      ],
      "metadata": {
        "colab": {
          "base_uri": "https://localhost:8080/"
        },
        "id": "rjpYR_nZaDR9",
        "outputId": "3e3cda63-8395-4151-9060-150c9090092f"
      },
      "execution_count": null,
      "outputs": [
        {
          "output_type": "stream",
          "name": "stdout",
          "text": [
            "0\n",
            "1\n",
            "1\n",
            "2\n",
            "3\n"
          ]
        }
      ]
    },
    {
      "cell_type": "markdown",
      "source": [
        "6.   Write a generator function in Python that yields the powers of 2 up to a given exponent."
      ],
      "metadata": {
        "id": "2VgwaEDOaO3T"
      }
    },
    {
      "cell_type": "code",
      "source": [
        "def powers_of_two(exponent):\n",
        "    for i in range(exponent + 1):\n",
        "        yield 2 ** i\n",
        "\n",
        "# Example\n",
        "for power in powers_of_two(5):\n",
        "    print(power)\n",
        "\n"
      ],
      "metadata": {
        "colab": {
          "base_uri": "https://localhost:8080/"
        },
        "id": "EN6pROLeaWfT",
        "outputId": "f51ca3c2-f3c8-4744-a1cd-7550d455e3fe"
      },
      "execution_count": null,
      "outputs": [
        {
          "output_type": "stream",
          "name": "stdout",
          "text": [
            "1\n",
            "2\n",
            "4\n",
            "8\n",
            "16\n",
            "32\n"
          ]
        }
      ]
    },
    {
      "cell_type": "markdown",
      "source": [
        "7.   Implement a generator function that reads a file line by line and yields each line as a string.\n"
      ],
      "metadata": {
        "id": "xDMGgMPFactU"
      }
    },
    {
      "cell_type": "code",
      "source": [
        "def read_file_line_by_line(file_path):\n",
        "    \"\"\"\n",
        "    Generator function to read a file line by line.\n",
        "    :param file_path: Path to the file to be read\n",
        "    :yield: Each line in the file as a string\n",
        "    \"\"\"\n",
        "    try:\n",
        "        with open(file_path, 'r') as file:\n",
        "            for line in file:\n",
        "                yield line.strip()  # Strip trailing newline or whitespace characters\n",
        "    except FileNotFoundError:\n",
        "        print(f\"Error: The file at {file_path} does not exist.\")\n",
        "    except IOError as e:\n",
        "        print(f\"Error reading the file: {e}\")\n",
        "\n",
        "\n",
        "# Example usage:\n",
        "if __name__ == \"__main__\":\n",
        "    file_path = \"example.txt\"  # Replace with the actual file path\n",
        "    try:\n",
        "        for line in read_file_line_by_line(file_path):\n",
        "            print(line)\n",
        "    except Exception as e:\n",
        "        print(f\"An unexpected error occurred: {e}\")\n"
      ],
      "metadata": {
        "colab": {
          "base_uri": "https://localhost:8080/"
        },
        "id": "h7k8wMApaoj8",
        "outputId": "8a4bbbf4-3e11-49fb-9535-b3db9e10dd95"
      },
      "execution_count": null,
      "outputs": [
        {
          "output_type": "stream",
          "name": "stdout",
          "text": [
            "Error: The file at example.txt does not exist.\n"
          ]
        }
      ]
    },
    {
      "cell_type": "markdown",
      "source": [
        "8.  Use a lambda function in Python to sort a list of tuples based on the second element of each tuple."
      ],
      "metadata": {
        "id": "gJCFv1RknIpe"
      }
    },
    {
      "cell_type": "code",
      "source": [
        "data = [(1, 3), (4, 1), (2, 5), (3, 2)]\n",
        "\n",
        "sorted_data = sorted(data, key=lambda x: x[1])\n",
        "\n",
        "print(sorted_data)"
      ],
      "metadata": {
        "colab": {
          "base_uri": "https://localhost:8080/"
        },
        "id": "NrZiGTutpZAP",
        "outputId": "21c0a1fe-94e0-45e5-9f29-d65e44784eba"
      },
      "execution_count": null,
      "outputs": [
        {
          "output_type": "stream",
          "name": "stdout",
          "text": [
            "[(4, 1), (3, 2), (1, 3), (2, 5)]\n"
          ]
        }
      ]
    },
    {
      "cell_type": "markdown",
      "source": [
        "9.  Write a Python program that uses `map()` to convert a list of temperatures from Celsius to Fahrenheit"
      ],
      "metadata": {
        "id": "tV0NcyyCnIBx"
      }
    },
    {
      "cell_type": "code",
      "source": [
        "def celsius_to_fahrenheit(celsius):\n",
        "  return (celsius * 9/5) + 32\n",
        "\n",
        "temperatures_celsius = [0, 10, 20, 30]\n",
        "temperatures_fahrenheit = list(map(celsius_to_fahrenheit, temperatures_celsius))\n",
        "\n",
        "print(temperatures_fahrenheit)"
      ],
      "metadata": {
        "colab": {
          "base_uri": "https://localhost:8080/"
        },
        "id": "XBYUKS9np0ox",
        "outputId": "53b543e8-131e-42b6-a9c9-0ffb223eec2f"
      },
      "execution_count": null,
      "outputs": [
        {
          "output_type": "stream",
          "name": "stdout",
          "text": [
            "[32.0, 50.0, 68.0, 86.0]\n"
          ]
        }
      ]
    },
    {
      "cell_type": "markdown",
      "source": [
        "10.  Create a Python program that uses `filter()` to remove all the vowels from a given string."
      ],
      "metadata": {
        "id": "rP2Pi4OHl3xL"
      }
    },
    {
      "cell_type": "code",
      "source": [
        "def is_not_vowel(char):\n",
        "  vowels = \"aeiouAEIOU\"\n",
        "  return char not in vowels\n",
        "\n",
        "string = \"Hello, world!\"\n",
        "without_vowels = \"\".join(filter(is_not_vowel, string))\n",
        "\n",
        "print(without_vowels)"
      ],
      "metadata": {
        "colab": {
          "base_uri": "https://localhost:8080/"
        },
        "id": "cvvVaqvoqQca",
        "outputId": "9f7cb007-b188-4fd1-de60-c3b7caca2a4b"
      },
      "execution_count": null,
      "outputs": [
        {
          "output_type": "stream",
          "name": "stdout",
          "text": [
            "Hll, wrld!\n"
          ]
        }
      ]
    },
    {
      "cell_type": "markdown",
      "source": [
        "11.  "
      ],
      "metadata": {
        "id": "9JuVQMXjyYVj"
      }
    },
    {
      "cell_type": "code",
      "source": [
        "def process_orders(orders):\n",
        "\n",
        "    result = []\n",
        "    for order in orders:\n",
        "        order_number = order[0]\n",
        "        quantity = order[2]\n",
        "        price_per_item = order[3]\n",
        "        total_price = quantity * price_per_item\n",
        "\n",
        "        if total_price < 100:\n",
        "            total_price += 10\n",
        "\n",
        "        result.append((order_number, total_price))\n",
        "\n",
        "    return result\n",
        "\n",
        "# Example usage\n",
        "orders = [\n",
        "    [34587, \"Learning Python, Mark Lutz\", 4, 40.95],\n",
        "    [98762, \"Programming Python, Mark Lutz\", 5, 56.80],\n",
        "    [77226, \"Head First Python, Paul Barry\", 3, 32.95],\n",
        "    [88112, \"Einführung in Python3, Bernd Klein\", 3, 24.99]\n",
        "]\n",
        "\n",
        "processed_orders = process_orders(orders)\n",
        "print(processed_orders)"
      ],
      "metadata": {
        "id": "34_BTu8PqibS",
        "colab": {
          "base_uri": "https://localhost:8080/"
        },
        "outputId": "408bc6af-ce70-4f6f-9a1f-b129307eeda5"
      },
      "execution_count": null,
      "outputs": [
        {
          "output_type": "stream",
          "name": "stdout",
          "text": [
            "[(34587, 163.8), (98762, 284.0), (77226, 108.85000000000001), (88112, 84.97)]\n"
          ]
        }
      ]
    },
    {
      "cell_type": "code",
      "source": [],
      "metadata": {
        "id": "dgu97mmT0qi7"
      },
      "execution_count": null,
      "outputs": []
    }
  ]
}